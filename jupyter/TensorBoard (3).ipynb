{
 "cells": [
  {
   "cell_type": "code",
   "execution_count": null,
   "id": "277880a0",
   "metadata": {},
   "outputs": [],
   "source": [
    "import torch\n",
    "print(torch.cuda.is_available())"
   ]
  },
  {
   "cell_type": "markdown",
   "id": "f5da946d",
   "metadata": {},
   "source": [
    "### **Preproccessing the Data**"
   ]
  },
  {
   "cell_type": "code",
   "execution_count": null,
   "id": "30de64c0",
   "metadata": {},
   "outputs": [],
   "source": [
    "import pandas as pd\n",
    "import torch\n",
    "import numpy as np\n",
    "import matplotlib.pyplot as plt\n",
    "from torch.utils.data import Dataset, DataLoader\n",
    "from torchvision.transforms import transforms\n",
    "from sklearn.model_selection import train_test_split\n",
    "import logging\n",
    "# from sklearn.preprocessing import StandardScaler\n",
    "# from sklearn.preprocessing import MinMaxScaler"
   ]
  },
  {
   "cell_type": "code",
   "execution_count": null,
   "id": "70f835c1",
   "metadata": {},
   "outputs": [],
   "source": [
    "class CustomDataset(Dataset):\n",
    "    def __init__(self, data, labels):\n",
    "        self.data = data\n",
    "        self.labels = labels\n",
    "\n",
    "    def __len__(self):\n",
    "        return len(self.data)\n",
    "\n",
    "    def __getitem__(self, idx):\n",
    "        image = self.data[idx]\n",
    "        label = self.labels[idx]\n",
    "        return image, label"
   ]
  },
  {
   "cell_type": "code",
   "execution_count": null,
   "id": "1b15589e",
   "metadata": {},
   "outputs": [],
   "source": [
    "def split_into_train_validation_test(df: pd.DataFrame, random_state: int, test_size: float):\n",
    "    # X - pixels of images\n",
    "    pixels = [col for col in df.columns if col.startswith('pixel')]\n",
    "    X = df[pixels]\n",
    "    y = np.array(df['label'])\n",
    "    \n",
    "    # Split into train & test\n",
    "    X_train, X_test, y_train, y_test = train_test_split(X, y, test_size = test_size, random_state=random_state)\n",
    "    # Split into train & validation\n",
    "    X_train, X_val, y_train, y_val = train_test_split(X_train, y_train, test_size = test_size, random_state=random_state)\n",
    "\n",
    "    return X_train, X_val, X_test, y_train, y_val, y_test"
   ]
  },
  {
   "cell_type": "code",
   "execution_count": null,
   "id": "cff46b6b",
   "metadata": {},
   "outputs": [],
   "source": [
    "def data_preparation(data: pd.DataFrame, labels, device='cuda'):\n",
    "    # Reshape the data to match the image dimensions (3, 32, 32)\n",
    "    data = data.values.reshape(-1, 3, 32, 32)\n",
    "\n",
    "    # Convert data to float32 and normalize to the range [0, 1]\n",
    "    data = data.astype(np.float32) / 255.0\n",
    "\n",
    "    # Convert NumPy arrays to PyTorch tensors\n",
    "    data_tensors = torch.tensor(data).to(device)\n",
    "    label_tensors = torch.tensor(labels).to(device)\n",
    "\n",
    "    # Standardize\n",
    "    normalize_transform = transforms.Normalize(mean=[0.0, 0.0, 0.0], std=[1.0, 1.0, 1.0])\n",
    "    data_tensors = normalize_transform(data_tensors)\n",
    "\n",
    "    # Create a CustomDataset instance\n",
    "    dataset = CustomDataset(data_tensors, label_tensors)\n",
    "\n",
    "    # Create a DataLoader\n",
    "    batch_size = 128\n",
    "    loader = DataLoader(dataset, batch_size=batch_size, shuffle=True)\n",
    "\n",
    "    return loader"
   ]
  },
  {
   "cell_type": "code",
   "execution_count": null,
   "id": "d0ef9113",
   "metadata": {},
   "outputs": [],
   "source": [
    "# df = pd.read_csv(\"/content/drive/MyDrive/Datasets/dataset.csv\") # for colab\n",
    "\n",
    "df = pd.read_csv(\"/kaggle/input/cifar-10-and-3-classes-from-cifar-100-imbalance/dataset.csv\")\n",
    "X_train, X_val, X_test, y_train, y_val, y_test = split_into_train_validation_test(df, random_state = 66, test_size = 0.2)\n",
    "train_loader = data_preparation(X_train, y_train)\n",
    "val_loader = data_preparation(X_val, y_val)\n",
    "test_loader = data_preparation(X_test, y_test)"
   ]
  },
  {
   "cell_type": "markdown",
   "id": "fc412de2",
   "metadata": {},
   "source": [
    "## Resnet18 model - Tensorboard"
   ]
  },
  {
   "cell_type": "code",
   "execution_count": null,
   "id": "e72737ac",
   "metadata": {},
   "outputs": [],
   "source": [
    "import torchvision.models as models\n",
    "import torch.nn as nn\n",
    "import os\n",
    "from tensorboardX import SummaryWriter"
   ]
  },
  {
   "cell_type": "code",
   "execution_count": null,
   "id": "a4311e79",
   "metadata": {},
   "outputs": [],
   "source": [
    "def valid_loss_avg(model, val_loader, criterion):\n",
    "    model.eval()  # Set the model to evaluation mode\n",
    "    total_val_loss = 0.0\n",
    "\n",
    "    with torch.no_grad():\n",
    "        for images_val, labels_val in val_loader:\n",
    "            outputs_val = model(images_val)\n",
    "            val_loss = criterion(outputs_val, labels_val)\n",
    "            total_val_loss += val_loss.item()\n",
    "    return total_val_loss / len(val_loader)"
   ]
  },
  {
   "cell_type": "code",
   "execution_count": null,
   "id": "b4460479",
   "metadata": {},
   "outputs": [],
   "source": [
    "def evaluate_model(model, dataloader):\n",
    "    model.eval()  # Set the model to evaluation mode\n",
    "    correct = 0\n",
    "    total = 0\n",
    "\n",
    "    with torch.no_grad():\n",
    "        for images, labels in dataloader:\n",
    "            outputs = model(images)\n",
    "            _, predicted = torch.max(outputs.data, 1)\n",
    "            total += labels.size(0)\n",
    "            correct += (predicted == labels).sum().item()\n",
    "\n",
    "    accuracy = 100 * correct / total\n",
    "    return accuracy"
   ]
  },
  {
   "cell_type": "code",
   "execution_count": null,
   "id": "6964fa05",
   "metadata": {},
   "outputs": [],
   "source": [
    "def resnet18_model_with_tensorboard(num_epochs: int, train_loader, val_loader, num_classes: int, device='cuda'):\n",
    "    # Define the ResNet18 model\n",
    "    model = models.resnet18(pretrained=False).to(device)\n",
    "    # model.fc = nn.Linear(model.fc.in_features, num_classes)\n",
    "    model.fc = nn.Linear(512, num_classes).to(device)\n",
    "    \n",
    "    # Define loss function and optimizer\n",
    "    criterion = nn.CrossEntropyLoss()\n",
    "    optimizer = torch.optim.Adam(model.parameters(), lr=0.001, weight_decay=1e-5)\n",
    "\n",
    "    # Set up TensorBoard writer\n",
    "    writer = SummaryWriter('logs')\n",
    "    os.makedirs('/kaggle/working/MyResNet18Models')\n",
    "\n",
    "    num_train_batches = len(train_loader)\n",
    "    for epoch in range(num_epochs):\n",
    "        model.train()  # Set the model to training mode\n",
    "        train_loss = 0.0\n",
    "\n",
    "        for i, (images, labels) in enumerate(train_loader):\n",
    "            # Forward pass\n",
    "            outputs = model(images)\n",
    "            loss = criterion(outputs, labels)\n",
    "\n",
    "            # Backward and optimize\n",
    "            optimizer.zero_grad()\n",
    "            loss.backward()\n",
    "            optimizer.step()\n",
    "\n",
    "            train_loss += loss.item()\n",
    "\n",
    "        # Calculate average training loss for the epoch\n",
    "        train_loss /= num_train_batches\n",
    "        \n",
    "        model.eval()  # Set the model to evaluation mode\n",
    "        val_loss = 0.0\n",
    "        num_val_batches = len(val_loader)\n",
    "\n",
    "        with torch.no_grad():  \n",
    "            for batch_idx, (val_inputs, val_labels) in enumerate(val_loader):\n",
    "                val_outputs = model(val_inputs)\n",
    "                val_loss_batch = criterion(val_outputs, val_labels)\n",
    "                val_loss += val_loss_batch.item()\n",
    "\n",
    "        val_loss /= num_val_batches\n",
    "        \n",
    "        accuracy = evaluate_model(model, val_loader)\n",
    "\n",
    "        # Write to TensorBoard\n",
    "        writer.add_scalar('Loss/train', train_loss, epoch)\n",
    "        writer.add_scalar('Loss/Val', val_loss, epoch)\n",
    "        writer.add_scalar('Accuracy/Val', accuracy , epoch)\n",
    "        \n",
    "        torch.save(model.state_dict(), f'/kaggle/working/MyResNet18Models/resnet18_model_{epoch}.pth') # save each model\n",
    "        \n",
    "    # Close the TensorBoard writer\n",
    "    writer.close()\n",
    "    \n",
    "    return model"
   ]
  },
  {
   "cell_type": "code",
   "execution_count": null,
   "id": "10efc511",
   "metadata": {},
   "outputs": [],
   "source": [
    "# import shutil\n",
    "# shutil.rmtree(\"/kaggle/working/MyResNet18Models\")\n",
    "# shutil.rmtree(\"/kaggle/working/logs\")"
   ]
  },
  {
   "cell_type": "code",
   "execution_count": null,
   "id": "2023bc09",
   "metadata": {},
   "outputs": [],
   "source": [
    "model = resnet18_model_with_tensorboard(30, train_loader, val_loader, 13)"
   ]
  },
  {
   "cell_type": "code",
   "execution_count": null,
   "id": "2ff9650b",
   "metadata": {},
   "outputs": [],
   "source": [
    "accuracy = evaluate_model(model, val_loader)\n",
    "print(\"Test Accuracy: {:.2f}%\".format(accuracy))"
   ]
  },
  {
   "cell_type": "code",
   "execution_count": null,
   "id": "1ce9e56c",
   "metadata": {},
   "outputs": [],
   "source": [
    "def load_model(model, model_path):\n",
    "    model = models.resnet18(pretrained=False)\n",
    "    model.fc = nn.Linear(512, 13)\n",
    "    model.load_state_dict(torch.load(model_path))\n",
    "    return model"
   ]
  },
  {
   "cell_type": "code",
   "execution_count": 1,
   "id": "90bab806",
   "metadata": {
    "scrolled": true
   },
   "outputs": [],
   "source": [
    "%load_ext tensorboard"
   ]
  },
  {
   "cell_type": "code",
   "execution_count": 4,
   "id": "30b5c450",
   "metadata": {
    "scrolled": false
   },
   "outputs": [
    {
     "data": {
      "text/html": [
       "\n",
       "      <iframe id=\"tensorboard-frame-14969b952c7a577f\" width=\"100%\" height=\"800\" frameborder=\"0\">\n",
       "      </iframe>\n",
       "      <script>\n",
       "        (function() {\n",
       "          const frame = document.getElementById(\"tensorboard-frame-14969b952c7a577f\");\n",
       "          const url = new URL(\"/\", window.location);\n",
       "          const port = 6007;\n",
       "          if (port) {\n",
       "            url.port = port;\n",
       "          }\n",
       "          frame.src = url;\n",
       "        })();\n",
       "      </script>\n",
       "    "
      ],
      "text/plain": [
       "<IPython.core.display.HTML object>"
      ]
     },
     "metadata": {},
     "output_type": "display_data"
    }
   ],
   "source": [
    "%tensorboard --logdir logs --host localhost --port 6007"
   ]
  }
 ],
 "metadata": {
  "kernelspec": {
   "display_name": "Python 3 (ipykernel)",
   "language": "python",
   "name": "python3"
  },
  "language_info": {
   "codemirror_mode": {
    "name": "ipython",
    "version": 3
   },
   "file_extension": ".py",
   "mimetype": "text/x-python",
   "name": "python",
   "nbconvert_exporter": "python",
   "pygments_lexer": "ipython3",
   "version": "3.8.2"
  }
 },
 "nbformat": 4,
 "nbformat_minor": 5
}
